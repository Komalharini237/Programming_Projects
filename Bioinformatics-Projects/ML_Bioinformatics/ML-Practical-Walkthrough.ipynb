{
 "cells": [
  {
   "cell_type": "markdown",
   "metadata": {},
   "source": [
    "# **Predicting Drug Response and Disease Classification Using Genomic and Protein Data**"
   ]
  },
  {
   "cell_type": "markdown",
   "metadata": {},
   "source": [
    "***Author's Disclaimer note:*** \n",
    "\n",
    "*This is a coursework practical material designed to explain the workflow with high level explanation of the Machine Learning models and their applications. The data used is only a synthetic representation of real world data. The real world project would have more complex structure and need better analysis and engineering for application.*\n",
    "\n",
    "*Contact for related queries: kharinirt237@gmail.com*\n",
    "*LinkedIn: https://www.linkedin.com/in/komalharini-tiwari/*"
   ]
  },
  {
   "cell_type": "markdown",
   "metadata": {},
   "source": [
    "# 1. Data Understanding and EDA (Exploratory Data Analysis):\n",
    "### 1. Import Libraries: Start by importing the necessary libraries."
   ]
  },
  {
   "cell_type": "code",
   "execution_count": 1,
   "metadata": {},
   "outputs": [],
   "source": [
    "import pandas as pd\n",
    "import matplotlib.pyplot as plt\n",
    "import seaborn as sns"
   ]
  },
  {
   "cell_type": "markdown",
   "metadata": {},
   "source": [
    "### 2. Load Data:"
   ]
  },
  {
   "cell_type": "code",
   "execution_count": 2,
   "metadata": {},
   "outputs": [
    {
     "data": {
      "text/html": [
       "<div>\n",
       "<style scoped>\n",
       "    .dataframe tbody tr th:only-of-type {\n",
       "        vertical-align: middle;\n",
       "    }\n",
       "\n",
       "    .dataframe tbody tr th {\n",
       "        vertical-align: top;\n",
       "    }\n",
       "\n",
       "    .dataframe thead th {\n",
       "        text-align: right;\n",
       "    }\n",
       "</style>\n",
       "<table border=\"1\" class=\"dataframe\">\n",
       "  <thead>\n",
       "    <tr style=\"text-align: right;\">\n",
       "      <th></th>\n",
       "      <th>Patient_ID</th>\n",
       "      <th>Age</th>\n",
       "      <th>Weight</th>\n",
       "      <th>Gene1_Expression</th>\n",
       "      <th>Gene2_Expression</th>\n",
       "      <th>Gene3_Expression</th>\n",
       "      <th>Protein_Descriptor1</th>\n",
       "      <th>Protein_Descriptor2</th>\n",
       "      <th>Drug_Response</th>\n",
       "      <th>Disease_Status</th>\n",
       "      <th>Drug_Dosage</th>\n",
       "    </tr>\n",
       "  </thead>\n",
       "  <tbody>\n",
       "    <tr>\n",
       "      <th>0</th>\n",
       "      <td>1</td>\n",
       "      <td>45.0</td>\n",
       "      <td>93.0</td>\n",
       "      <td>NaN</td>\n",
       "      <td>9.445006</td>\n",
       "      <td>14.14</td>\n",
       "      <td>0.49</td>\n",
       "      <td>1.10</td>\n",
       "      <td>Ineffective</td>\n",
       "      <td>Cancer</td>\n",
       "      <td>144.160454</td>\n",
       "    </tr>\n",
       "    <tr>\n",
       "      <th>1</th>\n",
       "      <td>2</td>\n",
       "      <td>79.0</td>\n",
       "      <td>93.0</td>\n",
       "      <td>7.984583</td>\n",
       "      <td>6.053021</td>\n",
       "      <td>7.74</td>\n",
       "      <td>0.47</td>\n",
       "      <td>1.27</td>\n",
       "      <td>Effective</td>\n",
       "      <td>Healthy</td>\n",
       "      <td>178.819155</td>\n",
       "    </tr>\n",
       "    <tr>\n",
       "      <th>2</th>\n",
       "      <td>3</td>\n",
       "      <td>70.0</td>\n",
       "      <td>78.0</td>\n",
       "      <td>9.740995</td>\n",
       "      <td>2.121154</td>\n",
       "      <td>9.22</td>\n",
       "      <td>0.46</td>\n",
       "      <td>1.44</td>\n",
       "      <td>Ineffective</td>\n",
       "      <td>Cancer</td>\n",
       "      <td>198.972020</td>\n",
       "    </tr>\n",
       "    <tr>\n",
       "      <th>3</th>\n",
       "      <td>4</td>\n",
       "      <td>28.0</td>\n",
       "      <td>NaN</td>\n",
       "      <td>2.856589</td>\n",
       "      <td>7.097806</td>\n",
       "      <td>12.30</td>\n",
       "      <td>0.35</td>\n",
       "      <td>0.90</td>\n",
       "      <td>Ineffective</td>\n",
       "      <td>Cancer</td>\n",
       "      <td>134.791813</td>\n",
       "    </tr>\n",
       "    <tr>\n",
       "      <th>4</th>\n",
       "      <td>5</td>\n",
       "      <td>51.0</td>\n",
       "      <td>91.0</td>\n",
       "      <td>9.182268</td>\n",
       "      <td>9.219273</td>\n",
       "      <td>8.06</td>\n",
       "      <td>0.52</td>\n",
       "      <td>1.10</td>\n",
       "      <td>Ineffective</td>\n",
       "      <td>NaN</td>\n",
       "      <td>73.414387</td>\n",
       "    </tr>\n",
       "  </tbody>\n",
       "</table>\n",
       "</div>"
      ],
      "text/plain": [
       "   Patient_ID   Age  Weight  Gene1_Expression  Gene2_Expression  \\\n",
       "0           1  45.0    93.0               NaN          9.445006   \n",
       "1           2  79.0    93.0          7.984583          6.053021   \n",
       "2           3  70.0    78.0          9.740995          2.121154   \n",
       "3           4  28.0     NaN          2.856589          7.097806   \n",
       "4           5  51.0    91.0          9.182268          9.219273   \n",
       "\n",
       "   Gene3_Expression  Protein_Descriptor1  Protein_Descriptor2 Drug_Response  \\\n",
       "0             14.14                 0.49                 1.10   Ineffective   \n",
       "1              7.74                 0.47                 1.27     Effective   \n",
       "2              9.22                 0.46                 1.44   Ineffective   \n",
       "3             12.30                 0.35                 0.90   Ineffective   \n",
       "4              8.06                 0.52                 1.10   Ineffective   \n",
       "\n",
       "  Disease_Status  Drug_Dosage  \n",
       "0         Cancer   144.160454  \n",
       "1        Healthy   178.819155  \n",
       "2         Cancer   198.972020  \n",
       "3         Cancer   134.791813  \n",
       "4            NaN    73.414387  "
      ]
     },
     "execution_count": 2,
     "metadata": {},
     "output_type": "execute_result"
    }
   ],
   "source": [
    "# Load the dataset\n",
    "data = pd.read_csv('bioinformatics_ml_project.csv')\n",
    "# data = pd.read_csv('bioinformatics_ml_project.csv',index_col='Patient_ID')\n",
    "\n",
    "# Display the first few rows of the dataset\n",
    "data.head()"
   ]
  },
  {
   "cell_type": "markdown",
   "metadata": {},
   "source": [
    "### 3. Basic Data Summary:\n",
    "- Check the shape of the dataset (number of rows and columns).\n",
    "- Check for null values.\n",
    "- Get summary statistics."
   ]
  },
  {
   "cell_type": "code",
   "execution_count": 3,
   "metadata": {},
   "outputs": [
    {
     "name": "stdout",
     "output_type": "stream",
     "text": [
      "(100, 11)\n"
     ]
    }
   ],
   "source": [
    "# Check the number of rows and columns\n",
    "print(data.shape)"
   ]
  },
  {
   "cell_type": "code",
   "execution_count": 4,
   "metadata": {},
   "outputs": [
    {
     "data": {
      "text/plain": [
       "Patient_ID              0\n",
       "Age                    10\n",
       "Weight                  8\n",
       "Gene1_Expression        6\n",
       "Gene2_Expression        0\n",
       "Gene3_Expression        0\n",
       "Protein_Descriptor1     0\n",
       "Protein_Descriptor2     0\n",
       "Drug_Response           1\n",
       "Disease_Status          1\n",
       "Drug_Dosage            12\n",
       "dtype: int64"
      ]
     },
     "execution_count": 4,
     "metadata": {},
     "output_type": "execute_result"
    }
   ],
   "source": [
    "# Check for missing values\n",
    "data.isnull().sum()"
   ]
  },
  {
   "cell_type": "code",
   "execution_count": 5,
   "metadata": {},
   "outputs": [
    {
     "data": {
      "text/html": [
       "<div>\n",
       "<style scoped>\n",
       "    .dataframe tbody tr th:only-of-type {\n",
       "        vertical-align: middle;\n",
       "    }\n",
       "\n",
       "    .dataframe tbody tr th {\n",
       "        vertical-align: top;\n",
       "    }\n",
       "\n",
       "    .dataframe thead th {\n",
       "        text-align: right;\n",
       "    }\n",
       "</style>\n",
       "<table border=\"1\" class=\"dataframe\">\n",
       "  <thead>\n",
       "    <tr style=\"text-align: right;\">\n",
       "      <th></th>\n",
       "      <th>Patient_ID</th>\n",
       "      <th>Age</th>\n",
       "      <th>Weight</th>\n",
       "      <th>Gene1_Expression</th>\n",
       "      <th>Gene2_Expression</th>\n",
       "      <th>Gene3_Expression</th>\n",
       "      <th>Protein_Descriptor1</th>\n",
       "      <th>Protein_Descriptor2</th>\n",
       "      <th>Drug_Dosage</th>\n",
       "    </tr>\n",
       "  </thead>\n",
       "  <tbody>\n",
       "    <tr>\n",
       "      <th>count</th>\n",
       "      <td>100.000000</td>\n",
       "      <td>90.000000</td>\n",
       "      <td>92.000000</td>\n",
       "      <td>94.000000</td>\n",
       "      <td>100.000000</td>\n",
       "      <td>100.00000</td>\n",
       "      <td>100.000000</td>\n",
       "      <td>100.000000</td>\n",
       "      <td>88.000000</td>\n",
       "    </tr>\n",
       "    <tr>\n",
       "      <th>mean</th>\n",
       "      <td>50.500000</td>\n",
       "      <td>52.833333</td>\n",
       "      <td>75.141304</td>\n",
       "      <td>5.677361</td>\n",
       "      <td>5.165436</td>\n",
       "      <td>9.88840</td>\n",
       "      <td>0.461100</td>\n",
       "      <td>1.142300</td>\n",
       "      <td>134.321637</td>\n",
       "    </tr>\n",
       "    <tr>\n",
       "      <th>std</th>\n",
       "      <td>29.011492</td>\n",
       "      <td>16.176867</td>\n",
       "      <td>15.680590</td>\n",
       "      <td>2.573667</td>\n",
       "      <td>2.747411</td>\n",
       "      <td>2.81757</td>\n",
       "      <td>0.087339</td>\n",
       "      <td>0.197202</td>\n",
       "      <td>43.191471</td>\n",
       "    </tr>\n",
       "    <tr>\n",
       "      <th>min</th>\n",
       "      <td>1.000000</td>\n",
       "      <td>21.000000</td>\n",
       "      <td>50.000000</td>\n",
       "      <td>1.108113</td>\n",
       "      <td>1.003591</td>\n",
       "      <td>5.09000</td>\n",
       "      <td>0.300000</td>\n",
       "      <td>0.810000</td>\n",
       "      <td>50.351946</td>\n",
       "    </tr>\n",
       "    <tr>\n",
       "      <th>25%</th>\n",
       "      <td>25.750000</td>\n",
       "      <td>41.000000</td>\n",
       "      <td>59.000000</td>\n",
       "      <td>3.527560</td>\n",
       "      <td>2.369348</td>\n",
       "      <td>7.42000</td>\n",
       "      <td>0.400000</td>\n",
       "      <td>0.977500</td>\n",
       "      <td>97.918708</td>\n",
       "    </tr>\n",
       "    <tr>\n",
       "      <th>50%</th>\n",
       "      <td>50.500000</td>\n",
       "      <td>52.000000</td>\n",
       "      <td>76.000000</td>\n",
       "      <td>5.585566</td>\n",
       "      <td>5.421362</td>\n",
       "      <td>9.68000</td>\n",
       "      <td>0.460000</td>\n",
       "      <td>1.150000</td>\n",
       "      <td>143.877681</td>\n",
       "    </tr>\n",
       "    <tr>\n",
       "      <th>75%</th>\n",
       "      <td>75.250000</td>\n",
       "      <td>68.000000</td>\n",
       "      <td>90.000000</td>\n",
       "      <td>7.906689</td>\n",
       "      <td>7.139885</td>\n",
       "      <td>12.11250</td>\n",
       "      <td>0.550000</td>\n",
       "      <td>1.300000</td>\n",
       "      <td>170.771276</td>\n",
       "    </tr>\n",
       "    <tr>\n",
       "      <th>max</th>\n",
       "      <td>100.000000</td>\n",
       "      <td>79.000000</td>\n",
       "      <td>99.000000</td>\n",
       "      <td>9.991787</td>\n",
       "      <td>9.980401</td>\n",
       "      <td>14.89000</td>\n",
       "      <td>0.600000</td>\n",
       "      <td>1.480000</td>\n",
       "      <td>198.972020</td>\n",
       "    </tr>\n",
       "  </tbody>\n",
       "</table>\n",
       "</div>"
      ],
      "text/plain": [
       "       Patient_ID        Age     Weight  Gene1_Expression  Gene2_Expression  \\\n",
       "count  100.000000  90.000000  92.000000         94.000000        100.000000   \n",
       "mean    50.500000  52.833333  75.141304          5.677361          5.165436   \n",
       "std     29.011492  16.176867  15.680590          2.573667          2.747411   \n",
       "min      1.000000  21.000000  50.000000          1.108113          1.003591   \n",
       "25%     25.750000  41.000000  59.000000          3.527560          2.369348   \n",
       "50%     50.500000  52.000000  76.000000          5.585566          5.421362   \n",
       "75%     75.250000  68.000000  90.000000          7.906689          7.139885   \n",
       "max    100.000000  79.000000  99.000000          9.991787          9.980401   \n",
       "\n",
       "       Gene3_Expression  Protein_Descriptor1  Protein_Descriptor2  Drug_Dosage  \n",
       "count         100.00000           100.000000           100.000000    88.000000  \n",
       "mean            9.88840             0.461100             1.142300   134.321637  \n",
       "std             2.81757             0.087339             0.197202    43.191471  \n",
       "min             5.09000             0.300000             0.810000    50.351946  \n",
       "25%             7.42000             0.400000             0.977500    97.918708  \n",
       "50%             9.68000             0.460000             1.150000   143.877681  \n",
       "75%            12.11250             0.550000             1.300000   170.771276  \n",
       "max            14.89000             0.600000             1.480000   198.972020  "
      ]
     },
     "execution_count": 5,
     "metadata": {},
     "output_type": "execute_result"
    }
   ],
   "source": [
    "# Get summary statistics\n",
    "data.describe()"
   ]
  },
  {
   "cell_type": "code",
   "execution_count": 6,
   "metadata": {},
   "outputs": [
    {
     "name": "stdout",
     "output_type": "stream",
     "text": [
      "<class 'pandas.core.frame.DataFrame'>\n",
      "RangeIndex: 100 entries, 0 to 99\n",
      "Data columns (total 11 columns):\n",
      " #   Column               Non-Null Count  Dtype  \n",
      "---  ------               --------------  -----  \n",
      " 0   Patient_ID           100 non-null    int64  \n",
      " 1   Age                  90 non-null     float64\n",
      " 2   Weight               92 non-null     float64\n",
      " 3   Gene1_Expression     94 non-null     float64\n",
      " 4   Gene2_Expression     100 non-null    float64\n",
      " 5   Gene3_Expression     100 non-null    float64\n",
      " 6   Protein_Descriptor1  100 non-null    float64\n",
      " 7   Protein_Descriptor2  100 non-null    float64\n",
      " 8   Drug_Response        99 non-null     object \n",
      " 9   Disease_Status       99 non-null     object \n",
      " 10  Drug_Dosage          88 non-null     float64\n",
      "dtypes: float64(8), int64(1), object(2)\n",
      "memory usage: 8.7+ KB\n"
     ]
    }
   ],
   "source": [
    "# Display the data types\n",
    "data.info()"
   ]
  },
  {
   "cell_type": "markdown",
   "metadata": {},
   "source": [
    "### 4. Visualize Data:\n",
    "- Plot distributions of features such as age, weight, and gene expressions.\n",
    "- Use pair plots to see relationships between variables."
   ]
  },
  {
   "cell_type": "code",
   "execution_count": 7,
   "metadata": {},
   "outputs": [
    {
     "data": {
      "image/png": "[encoded data removed]",
      "text/plain": [
       "<Figure size 432x288 with 1 Axes>"
      ]
     },
     "metadata": {
      "needs_background": "light"
     },
     "output_type": "display_data"
    },
    {
     "data": {
      "image/png": "[encoded data removed]",
      "text/plain": [
       "<Figure size 540x540 with 12 Axes>"
      ]
     },
     "metadata": {
      "needs_background": "light"
     },
     "output_type": "display_data"
    }
   ],
   "source": [
    "# Distribution of age and weight\n",
    "sns.histplot(data['Age'])\n",
    "sns.histplot(data['Weight'])\n",
    "\n",
    "# Visualizing gene expression\n",
    "sns.pairplot(data[['Gene1_Expression', 'Gene2_Expression', 'Gene3_Expression']])\n",
    "plt.show()"
   ]
  },
  {
   "cell_type": "code",
   "execution_count": 8,
   "metadata": {},
   "outputs": [
    {
     "data": {
      "text/plain": [
       "<AxesSubplot:xlabel='Disease_Status'>"
      ]
     },
     "execution_count": 8,
     "metadata": {},
     "output_type": "execute_result"
    },
    {
     "data": {
      "image/png": "[encoded data removed]",
      "text/plain": [
       "<Figure size 432x288 with 1 Axes>"
      ]
     },
     "metadata": {
      "needs_background": "light"
     },
     "output_type": "display_data"
    }
   ],
   "source": [
    "# Visualize distribution\n",
    "data['Disease_Status'].value_counts().plot(kind='bar')"
   ]
  },
  {
   "cell_type": "code",
   "execution_count": 9,
   "metadata": {},
   "outputs": [
    {
     "data": {
      "text/plain": [
       "<AxesSubplot:xlabel='Drug_Response'>"
      ]
     },
     "execution_count": 9,
     "metadata": {},
     "output_type": "execute_result"
    },
    {
     "data": {
      "image/png": "[encoded data removed]",
      "text/plain": [
       "<Figure size 432x288 with 1 Axes>"
      ]
     },
     "metadata": {
      "needs_background": "light"
     },
     "output_type": "display_data"
    }
   ],
   "source": [
    "# Visualize distribution\n",
    "data['Drug_Response'].value_counts().plot(kind='bar')"
   ]
  },
  {
   "cell_type": "markdown",
   "metadata": {},
   "source": [
    "# 2. Data Preprocessing:\n",
    "\n",
    "### 1. Handling Missing Values:\n",
    "- If there are missing values, decide how to handle them (drop, fill, etc.)."
   ]
  },
  {
   "cell_type": "code",
   "execution_count": 10,
   "metadata": {},
   "outputs": [
    {
     "data": {
      "text/plain": [
       "Patient_ID             0\n",
       "Age                    0\n",
       "Weight                 0\n",
       "Gene1_Expression       0\n",
       "Gene2_Expression       0\n",
       "Gene3_Expression       0\n",
       "Protein_Descriptor1    0\n",
       "Protein_Descriptor2    0\n",
       "Drug_Response          1\n",
       "Disease_Status         1\n",
       "Drug_Dosage            0\n",
       "dtype: int64"
      ]
     },
     "execution_count": 10,
     "metadata": {},
     "output_type": "execute_result"
    }
   ],
   "source": [
    "# Filling missing values for numeric columns (if necessary)\n",
    "data.fillna(data.mean(numeric_only=True), inplace=True)\n",
    "\n",
    "# Check for missing values\n",
    "data.isnull().sum()"
   ]
  },
  {
   "cell_type": "code",
   "execution_count": 11,
   "metadata": {},
   "outputs": [
    {
     "data": {
      "text/plain": [
       "Patient_ID             0\n",
       "Age                    0\n",
       "Weight                 0\n",
       "Gene1_Expression       0\n",
       "Gene2_Expression       0\n",
       "Gene3_Expression       0\n",
       "Protein_Descriptor1    0\n",
       "Protein_Descriptor2    0\n",
       "Drug_Response          0\n",
       "Disease_Status         0\n",
       "Drug_Dosage            0\n",
       "dtype: int64"
      ]
     },
     "execution_count": 11,
     "metadata": {},
     "output_type": "execute_result"
    }
   ],
   "source": [
    "# Filling missing values for categorical columns with the mode\n",
    "for column in data.select_dtypes(include=['object']).columns:\n",
    "    data[column].fillna(data[column].mode()[0], inplace=True)\n",
    "\n",
    "# Check for missing values\n",
    "data.isnull().sum()"
   ]
  },
  {
   "cell_type": "markdown",
   "metadata": {},
   "source": [
    "### 2. Encoding Categorical Variables:\n",
    "- Convert Disease_Status and Drug_Response into numerical values (e.g., 1 for \"Cancer\", 0 for \"Healthy\")."
   ]
  },
  {
   "cell_type": "code",
   "execution_count": 12,
   "metadata": {},
   "outputs": [
    {
     "data": {
      "text/html": [
       "<div>\n",
       "<style scoped>\n",
       "    .dataframe tbody tr th:only-of-type {\n",
       "        vertical-align: middle;\n",
       "    }\n",
       "\n",
       "    .dataframe tbody tr th {\n",
       "        vertical-align: top;\n",
       "    }\n",
       "\n",
       "    .dataframe thead th {\n",
       "        text-align: right;\n",
       "    }\n",
       "</style>\n",
       "<table border=\"1\" class=\"dataframe\">\n",
       "  <thead>\n",
       "    <tr style=\"text-align: right;\">\n",
       "      <th></th>\n",
       "      <th>Disease_Status</th>\n",
       "      <th>Drug_Response</th>\n",
       "    </tr>\n",
       "  </thead>\n",
       "  <tbody>\n",
       "    <tr>\n",
       "      <th>0</th>\n",
       "      <td>Cancer</td>\n",
       "      <td>Ineffective</td>\n",
       "    </tr>\n",
       "    <tr>\n",
       "      <th>1</th>\n",
       "      <td>Healthy</td>\n",
       "      <td>Effective</td>\n",
       "    </tr>\n",
       "    <tr>\n",
       "      <th>2</th>\n",
       "      <td>Cancer</td>\n",
       "      <td>Ineffective</td>\n",
       "    </tr>\n",
       "    <tr>\n",
       "      <th>3</th>\n",
       "      <td>Cancer</td>\n",
       "      <td>Ineffective</td>\n",
       "    </tr>\n",
       "    <tr>\n",
       "      <th>4</th>\n",
       "      <td>Healthy</td>\n",
       "      <td>Ineffective</td>\n",
       "    </tr>\n",
       "  </tbody>\n",
       "</table>\n",
       "</div>"
      ],
      "text/plain": [
       "  Disease_Status Drug_Response\n",
       "0         Cancer   Ineffective\n",
       "1        Healthy     Effective\n",
       "2         Cancer   Ineffective\n",
       "3         Cancer   Ineffective\n",
       "4        Healthy   Ineffective"
      ]
     },
     "execution_count": 12,
     "metadata": {},
     "output_type": "execute_result"
    }
   ],
   "source": [
    "# Before encoding\n",
    "data[['Disease_Status','Drug_Response']].head()"
   ]
  },
  {
   "cell_type": "code",
   "execution_count": 13,
   "metadata": {},
   "outputs": [],
   "source": [
    "# Encode categorical variables\n",
    "data['Disease_Status'] = data['Disease_Status'].map({'Cancer': 1, 'Healthy': 0})\n",
    "data['Drug_Response'] = data['Drug_Response'].map({'Effective': 1, 'Ineffective': 0})"
   ]
  },
  {
   "cell_type": "markdown",
   "metadata": {},
   "source": [
    "- The `map()` function is case-sensitive and expects exact matches for the strings provided. \n",
    "- This is not possible when there are more number of different categorical values. \n",
    "- That is when `LabelEncoder()` can be used so that mentioning exact strings is not needed."
   ]
  },
  {
   "cell_type": "code",
   "execution_count": 12,
   "metadata": {},
   "outputs": [],
   "source": [
    "# Another way:\n",
    "from sklearn.preprocessing import LabelEncoder\n",
    "\n",
    "# Encode categorical columns\n",
    "label_encoder = LabelEncoder()\n",
    "data['Drug_Response'] = label_encoder.fit_transform(data['Drug_Response'])\n",
    "data['Disease_Status'] = label_encoder.fit_transform(data['Disease_Status'])\n"
   ]
  },
  {
   "cell_type": "code",
   "execution_count": 14,
   "metadata": {},
   "outputs": [
    {
     "data": {
      "text/html": [
       "<div>\n",
       "<style scoped>\n",
       "    .dataframe tbody tr th:only-of-type {\n",
       "        vertical-align: middle;\n",
       "    }\n",
       "\n",
       "    .dataframe tbody tr th {\n",
       "        vertical-align: top;\n",
       "    }\n",
       "\n",
       "    .dataframe thead th {\n",
       "        text-align: right;\n",
       "    }\n",
       "</style>\n",
       "<table border=\"1\" class=\"dataframe\">\n",
       "  <thead>\n",
       "    <tr style=\"text-align: right;\">\n",
       "      <th></th>\n",
       "      <th>Disease_Status</th>\n",
       "      <th>Drug_Response</th>\n",
       "    </tr>\n",
       "  </thead>\n",
       "  <tbody>\n",
       "    <tr>\n",
       "      <th>0</th>\n",
       "      <td>1</td>\n",
       "      <td>0</td>\n",
       "    </tr>\n",
       "    <tr>\n",
       "      <th>1</th>\n",
       "      <td>0</td>\n",
       "      <td>1</td>\n",
       "    </tr>\n",
       "    <tr>\n",
       "      <th>2</th>\n",
       "      <td>1</td>\n",
       "      <td>0</td>\n",
       "    </tr>\n",
       "    <tr>\n",
       "      <th>3</th>\n",
       "      <td>1</td>\n",
       "      <td>0</td>\n",
       "    </tr>\n",
       "    <tr>\n",
       "      <th>4</th>\n",
       "      <td>0</td>\n",
       "      <td>0</td>\n",
       "    </tr>\n",
       "  </tbody>\n",
       "</table>\n",
       "</div>"
      ],
      "text/plain": [
       "   Disease_Status  Drug_Response\n",
       "0               1              0\n",
       "1               0              1\n",
       "2               1              0\n",
       "3               1              0\n",
       "4               0              0"
      ]
     },
     "execution_count": 14,
     "metadata": {},
     "output_type": "execute_result"
    }
   ],
   "source": [
    "# After encoding\n",
    "data[['Disease_Status','Drug_Response']].head()"
   ]
  },
  {
   "cell_type": "code",
   "execution_count": 15,
   "metadata": {},
   "outputs": [
    {
     "data": {
      "text/plain": [
       "<AxesSubplot:xlabel='Disease_Status'>"
      ]
     },
     "execution_count": 15,
     "metadata": {},
     "output_type": "execute_result"
    },
    {
     "data": {
      "image/png": "[encoded data removed]",
      "text/plain": [
       "<Figure size 432x288 with 1 Axes>"
      ]
     },
     "metadata": {
      "needs_background": "light"
     },
     "output_type": "display_data"
    }
   ],
   "source": [
    "# Visualize distribution\n",
    "data['Disease_Status'].value_counts().plot(kind='bar')"
   ]
  },
  {
   "cell_type": "code",
   "execution_count": 16,
   "metadata": {},
   "outputs": [
    {
     "data": {
      "text/plain": [
       "<AxesSubplot:xlabel='Drug_Response'>"
      ]
     },
     "execution_count": 16,
     "metadata": {},
     "output_type": "execute_result"
    },
    {
     "data": {
      "image/png": "[encoded data removed]",
      "text/plain": [
       "<Figure size 432x288 with 1 Axes>"
      ]
     },
     "metadata": {
      "needs_background": "light"
     },
     "output_type": "display_data"
    }
   ],
   "source": [
    "# Visualize distribution\n",
    "data['Drug_Response'].value_counts().plot(kind='bar')"
   ]
  },
  {
   "cell_type": "markdown",
   "metadata": {},
   "source": [
    "### 3. Feature Scaling:\n",
    "- Normalize or standardize numeric data such as gene expression and protein descriptors."
   ]
  },
  {
   "cell_type": "code",
   "execution_count": 17,
   "metadata": {},
   "outputs": [
    {
     "data": {
      "text/html": [
       "<div>\n",
       "<style scoped>\n",
       "    .dataframe tbody tr th:only-of-type {\n",
       "        vertical-align: middle;\n",
       "    }\n",
       "\n",
       "    .dataframe tbody tr th {\n",
       "        vertical-align: top;\n",
       "    }\n",
       "\n",
       "    .dataframe thead th {\n",
       "        text-align: right;\n",
       "    }\n",
       "</style>\n",
       "<table border=\"1\" class=\"dataframe\">\n",
       "  <thead>\n",
       "    <tr style=\"text-align: right;\">\n",
       "      <th></th>\n",
       "      <th>Age</th>\n",
       "      <th>Weight</th>\n",
       "      <th>Gene1_Expression</th>\n",
       "      <th>Gene2_Expression</th>\n",
       "      <th>Gene3_Expression</th>\n",
       "      <th>Protein_Descriptor1</th>\n",
       "      <th>Protein_Descriptor2</th>\n",
       "    </tr>\n",
       "  </thead>\n",
       "  <tbody>\n",
       "    <tr>\n",
       "      <th>count</th>\n",
       "      <td>100.000000</td>\n",
       "      <td>100.000000</td>\n",
       "      <td>100.000000</td>\n",
       "      <td>100.000000</td>\n",
       "      <td>100.00000</td>\n",
       "      <td>100.000000</td>\n",
       "      <td>100.000000</td>\n",
       "    </tr>\n",
       "    <tr>\n",
       "      <th>mean</th>\n",
       "      <td>52.833333</td>\n",
       "      <td>75.141304</td>\n",
       "      <td>5.677361</td>\n",
       "      <td>5.165436</td>\n",
       "      <td>9.88840</td>\n",
       "      <td>0.461100</td>\n",
       "      <td>1.142300</td>\n",
       "    </tr>\n",
       "    <tr>\n",
       "      <th>std</th>\n",
       "      <td>15.338109</td>\n",
       "      <td>15.033687</td>\n",
       "      <td>2.494458</td>\n",
       "      <td>2.747411</td>\n",
       "      <td>2.81757</td>\n",
       "      <td>0.087339</td>\n",
       "      <td>0.197202</td>\n",
       "    </tr>\n",
       "    <tr>\n",
       "      <th>min</th>\n",
       "      <td>21.000000</td>\n",
       "      <td>50.000000</td>\n",
       "      <td>1.108113</td>\n",
       "      <td>1.003591</td>\n",
       "      <td>5.09000</td>\n",
       "      <td>0.300000</td>\n",
       "      <td>0.810000</td>\n",
       "    </tr>\n",
       "    <tr>\n",
       "      <th>25%</th>\n",
       "      <td>41.750000</td>\n",
       "      <td>60.750000</td>\n",
       "      <td>3.685126</td>\n",
       "      <td>2.369348</td>\n",
       "      <td>7.42000</td>\n",
       "      <td>0.400000</td>\n",
       "      <td>0.977500</td>\n",
       "    </tr>\n",
       "    <tr>\n",
       "      <th>50%</th>\n",
       "      <td>52.833333</td>\n",
       "      <td>75.141304</td>\n",
       "      <td>5.677361</td>\n",
       "      <td>5.421362</td>\n",
       "      <td>9.68000</td>\n",
       "      <td>0.460000</td>\n",
       "      <td>1.150000</td>\n",
       "    </tr>\n",
       "    <tr>\n",
       "      <th>75%</th>\n",
       "      <td>66.250000</td>\n",
       "      <td>89.250000</td>\n",
       "      <td>7.758585</td>\n",
       "      <td>7.139885</td>\n",
       "      <td>12.11250</td>\n",
       "      <td>0.550000</td>\n",
       "      <td>1.300000</td>\n",
       "    </tr>\n",
       "    <tr>\n",
       "      <th>max</th>\n",
       "      <td>79.000000</td>\n",
       "      <td>99.000000</td>\n",
       "      <td>9.991787</td>\n",
       "      <td>9.980401</td>\n",
       "      <td>14.89000</td>\n",
       "      <td>0.600000</td>\n",
       "      <td>1.480000</td>\n",
       "    </tr>\n",
       "  </tbody>\n",
       "</table>\n",
       "</div>"
      ],
      "text/plain": [
       "              Age      Weight  Gene1_Expression  Gene2_Expression  \\\n",
       "count  100.000000  100.000000        100.000000        100.000000   \n",
       "mean    52.833333   75.141304          5.677361          5.165436   \n",
       "std     15.338109   15.033687          2.494458          2.747411   \n",
       "min     21.000000   50.000000          1.108113          1.003591   \n",
       "25%     41.750000   60.750000          3.685126          2.369348   \n",
       "50%     52.833333   75.141304          5.677361          5.421362   \n",
       "75%     66.250000   89.250000          7.758585          7.139885   \n",
       "max     79.000000   99.000000          9.991787          9.980401   \n",
       "\n",
       "       Gene3_Expression  Protein_Descriptor1  Protein_Descriptor2  \n",
       "count         100.00000           100.000000           100.000000  \n",
       "mean            9.88840             0.461100             1.142300  \n",
       "std             2.81757             0.087339             0.197202  \n",
       "min             5.09000             0.300000             0.810000  \n",
       "25%             7.42000             0.400000             0.977500  \n",
       "50%             9.68000             0.460000             1.150000  \n",
       "75%            12.11250             0.550000             1.300000  \n",
       "max            14.89000             0.600000             1.480000  "
      ]
     },
     "execution_count": 17,
     "metadata": {},
     "output_type": "execute_result"
    }
   ],
   "source": [
    "from sklearn.preprocessing import StandardScaler\n",
    "\n",
    "# Define the features to be scaled\n",
    "features = ['Age', 'Weight', 'Gene1_Expression', 'Gene2_Expression', 'Gene3_Expression', 'Protein_Descriptor1', 'Protein_Descriptor2']\n",
    "\n",
    "# Before scaling\n",
    "data[features].describe()"
   ]
  },
  {
   "cell_type": "code",
   "execution_count": 18,
   "metadata": {},
   "outputs": [],
   "source": [
    "# Standardize the data\n",
    "scaler = StandardScaler()\n",
    "data[features] = scaler.fit_transform(data[features])"
   ]
  },
  {
   "cell_type": "code",
   "execution_count": 19,
   "metadata": {},
   "outputs": [
    {
     "data": {
      "text/html": [
       "<div>\n",
       "<style scoped>\n",
       "    .dataframe tbody tr th:only-of-type {\n",
       "        vertical-align: middle;\n",
       "    }\n",
       "\n",
       "    .dataframe tbody tr th {\n",
       "        vertical-align: top;\n",
       "    }\n",
       "\n",
       "    .dataframe thead th {\n",
       "        text-align: right;\n",
       "    }\n",
       "</style>\n",
       "<table border=\"1\" class=\"dataframe\">\n",
       "  <thead>\n",
       "    <tr style=\"text-align: right;\">\n",
       "      <th></th>\n",
       "      <th>Age</th>\n",
       "      <th>Weight</th>\n",
       "      <th>Gene1_Expression</th>\n",
       "      <th>Gene2_Expression</th>\n",
       "      <th>Gene3_Expression</th>\n",
       "      <th>Protein_Descriptor1</th>\n",
       "      <th>Protein_Descriptor2</th>\n",
       "    </tr>\n",
       "  </thead>\n",
       "  <tbody>\n",
       "    <tr>\n",
       "      <th>count</th>\n",
       "      <td>1.000000e+02</td>\n",
       "      <td>1.000000e+02</td>\n",
       "      <td>1.000000e+02</td>\n",
       "      <td>1.000000e+02</td>\n",
       "      <td>1.000000e+02</td>\n",
       "      <td>1.000000e+02</td>\n",
       "      <td>1.000000e+02</td>\n",
       "    </tr>\n",
       "    <tr>\n",
       "      <th>mean</th>\n",
       "      <td>3.264056e-16</td>\n",
       "      <td>5.462297e-16</td>\n",
       "      <td>-1.698641e-16</td>\n",
       "      <td>-4.529710e-16</td>\n",
       "      <td>-2.764455e-16</td>\n",
       "      <td>-7.771561e-17</td>\n",
       "      <td>-4.990452e-16</td>\n",
       "    </tr>\n",
       "    <tr>\n",
       "      <th>std</th>\n",
       "      <td>1.005038e+00</td>\n",
       "      <td>1.005038e+00</td>\n",
       "      <td>1.005038e+00</td>\n",
       "      <td>1.005038e+00</td>\n",
       "      <td>1.005038e+00</td>\n",
       "      <td>1.005038e+00</td>\n",
       "      <td>1.005038e+00</td>\n",
       "    </tr>\n",
       "    <tr>\n",
       "      <th>min</th>\n",
       "      <td>-2.085896e+00</td>\n",
       "      <td>-1.680756e+00</td>\n",
       "      <td>-1.840988e+00</td>\n",
       "      <td>-1.522455e+00</td>\n",
       "      <td>-1.711608e+00</td>\n",
       "      <td>-1.853833e+00</td>\n",
       "      <td>-1.693564e+00</td>\n",
       "    </tr>\n",
       "    <tr>\n",
       "      <th>25%</th>\n",
       "      <td>-7.262414e-01</td>\n",
       "      <td>-9.620930e-01</td>\n",
       "      <td>-8.026881e-01</td>\n",
       "      <td>-1.022844e+00</td>\n",
       "      <td>-8.804877e-01</td>\n",
       "      <td>-7.030986e-01</td>\n",
       "      <td>-8.399017e-01</td>\n",
       "    </tr>\n",
       "    <tr>\n",
       "      <th>50%</th>\n",
       "      <td>4.655869e-16</td>\n",
       "      <td>9.500295e-16</td>\n",
       "      <td>0.000000e+00</td>\n",
       "      <td>9.362099e-02</td>\n",
       "      <td>-7.433707e-02</td>\n",
       "      <td>-1.265808e-02</td>\n",
       "      <td>3.924298e-02</td>\n",
       "    </tr>\n",
       "    <tr>\n",
       "      <th>75%</th>\n",
       "      <td>8.791343e-01</td>\n",
       "      <td>9.431999e-01</td>\n",
       "      <td>8.385421e-01</td>\n",
       "      <td>7.222786e-01</td>\n",
       "      <td>7.933449e-01</td>\n",
       "      <td>1.023003e+00</td>\n",
       "      <td>8.037166e-01</td>\n",
       "    </tr>\n",
       "    <tr>\n",
       "      <th>max</th>\n",
       "      <td>1.714585e+00</td>\n",
       "      <td>1.595011e+00</td>\n",
       "      <td>1.738318e+00</td>\n",
       "      <td>1.761375e+00</td>\n",
       "      <td>1.784090e+00</td>\n",
       "      <td>1.598370e+00</td>\n",
       "      <td>1.721085e+00</td>\n",
       "    </tr>\n",
       "  </tbody>\n",
       "</table>\n",
       "</div>"
      ],
      "text/plain": [
       "                Age        Weight  Gene1_Expression  Gene2_Expression  \\\n",
       "count  1.000000e+02  1.000000e+02      1.000000e+02      1.000000e+02   \n",
       "mean   3.264056e-16  5.462297e-16     -1.698641e-16     -4.529710e-16   \n",
       "std    1.005038e+00  1.005038e+00      1.005038e+00      1.005038e+00   \n",
       "min   -2.085896e+00 -1.680756e+00     -1.840988e+00     -1.522455e+00   \n",
       "25%   -7.262414e-01 -9.620930e-01     -8.026881e-01     -1.022844e+00   \n",
       "50%    4.655869e-16  9.500295e-16      0.000000e+00      9.362099e-02   \n",
       "75%    8.791343e-01  9.431999e-01      8.385421e-01      7.222786e-01   \n",
       "max    1.714585e+00  1.595011e+00      1.738318e+00      1.761375e+00   \n",
       "\n",
       "       Gene3_Expression  Protein_Descriptor1  Protein_Descriptor2  \n",
       "count      1.000000e+02         1.000000e+02         1.000000e+02  \n",
       "mean      -2.764455e-16        -7.771561e-17        -4.990452e-16  \n",
       "std        1.005038e+00         1.005038e+00         1.005038e+00  \n",
       "min       -1.711608e+00        -1.853833e+00        -1.693564e+00  \n",
       "25%       -8.804877e-01        -7.030986e-01        -8.399017e-01  \n",
       "50%       -7.433707e-02        -1.265808e-02         3.924298e-02  \n",
       "75%        7.933449e-01         1.023003e+00         8.037166e-01  \n",
       "max        1.784090e+00         1.598370e+00         1.721085e+00  "
      ]
     },
     "execution_count": 19,
     "metadata": {},
     "output_type": "execute_result"
    }
   ],
   "source": [
    "# After scaling\n",
    "data[features].describe()"
   ]
  },
  {
   "cell_type": "markdown",
   "metadata": {},
   "source": [
    "# 3. Model Building & Interpretation:\n",
    "\n",
    "## Model 1: Linear Regression for Drug Dosage Prediction\n",
    "### 1. Define Features and Target:"
   ]
  },
  {
   "cell_type": "code",
   "execution_count": 20,
   "metadata": {},
   "outputs": [],
   "source": [
    "from sklearn.linear_model import LinearRegression\n",
    "from sklearn.model_selection import train_test_split\n",
    "\n",
    "# Define features (Age, Weight, Disease_Status) and target (Drug_Dosage)\n",
    "X = data[['Age', 'Weight', 'Disease_Status']]\n",
    "y = data['Drug_Dosage']\n",
    "\n",
    "# Split the data into training and testing sets\n",
    "X_train, X_test, y_train, y_test = train_test_split(X, y, test_size=0.2, random_state=42)"
   ]
  },
  {
   "cell_type": "markdown",
   "metadata": {},
   "source": [
    "### 2. Train the Model:"
   ]
  },
  {
   "cell_type": "code",
   "execution_count": 21,
   "metadata": {},
   "outputs": [],
   "source": [
    "# Train Linear Regression Model\n",
    "lin_reg = LinearRegression()\n",
    "lin_reg.fit(X_train, y_train)\n",
    "\n",
    "# Make predictions\n",
    "y_pred = lin_reg.predict(X_test)"
   ]
  },
  {
   "cell_type": "code",
   "execution_count": 22,
   "metadata": {},
   "outputs": [
    {
     "name": "stdout",
     "output_type": "stream",
     "text": [
      "95.50964659 134.433778055828\n",
      "164.1027607 109.69458930168094\n",
      "76.92198328 155.38431032239853\n",
      "134.32163696056818 122.23394967415113\n",
      "134.32163696056818 136.05265051889663\n",
      "198.7630012 159.2101350498936\n",
      "171.5516685 136.01784372088474\n",
      "105.9557773 138.09321622218894\n",
      "185.8180447 143.6861140840454\n",
      "144.1604544 125.90087941730039\n",
      "72.50990772 140.44520223481518\n",
      "130.2352039 131.15926311989014\n",
      "134.32163696056818 128.60299088328833\n",
      "90.42105507 132.42936195742814\n",
      "143.6087937 121.13023739774725\n",
      "73.41438668 124.13435262958373\n",
      "171.0016897 153.12200392821222\n",
      "191.9298058 154.24571718971936\n",
      "158.423463 124.3001187858097\n",
      "179.0525793 137.5023677278561\n"
     ]
    }
   ],
   "source": [
    "for i in range(0,len(y_pred)):\n",
    "    print(y_test.reset_index(drop='index')[i], y_pred[i])"
   ]
  },
  {
   "cell_type": "markdown",
   "metadata": {},
   "source": [
    "### 3. Model Evaluation\n",
    "- For Regression Models:\n",
    "    - Evaluate using metrics like **Mean Squared Error (MSE), R-squared.**\n",
    "- For Classification Models:\n",
    "    - Evaluate using metrics like **Accuracy, Precision, Recall, F1-Score, and Confusion Matrix.**\n",
    "- For Clustering Models:\n",
    "    - Evaluate using **Silhouette Score** or **Within-Cluster Sum of Squares (WCSS).**"
   ]
  },
  {
   "cell_type": "code",
   "execution_count": 23,
   "metadata": {},
   "outputs": [
    {
     "name": "stdout",
     "output_type": "stream",
     "text": [
      "Mean Squared Error: 1543.552338424623\n",
      "R-squared: 0.015031450248899847\n"
     ]
    }
   ],
   "source": [
    "from sklearn.metrics import mean_squared_error, r2_score\n",
    "\n",
    "# Calculate Mean Squared Error and R-squared\n",
    "mse = mean_squared_error(y_test, y_pred)\n",
    "r2 = r2_score(y_test, y_pred)\n",
    "\n",
    "print(f'Mean Squared Error: {mse}')\n",
    "print(f'R-squared: {r2}')"
   ]
  },
  {
   "cell_type": "markdown",
   "metadata": {},
   "source": [
    "### 4. Interpretation: \n",
    "- #### Mean Squared Error (MSE):\n",
    "    - **Lower MSE** is better. It represents the average squared difference between the actual and predicted values. \n",
    "    - If MSE is close to 0, it indicates that your model's predictions are very close to the actual values.\n",
    "    - The range of MSE depends on the scale of your target variable. \n",
    "    - However, in your case, an MSE of **1543.55** indicates that there is quite a bit of error in your predictions.\n",
    "- #### R-squared (R²):\n",
    "    - The **R-squared value (R²)** measures how well your model explains the variance in the target variable.\n",
    "    - R-squared values range from 0 to 1, with higher values indicating better model performance.\n",
    "        - **R² = 1** means the model explains all the variance perfectly.\n",
    "        - **R² = 0** means the model explains none of the variance (similar to predicting the mean of the target).\n",
    "        - **R² < 0** means the model is performing worse than a horizontal line.\n",
    "    - Your **R² = 0.015** means that the model explains only about 1.5% of the variance, which is quite low and indicates underperformance.\n",
    "\n",
    "### 5. Conclusion: \n",
    "To improve your linear regression model:\n",
    "\n",
    "- Look for non-linear relationships (use polynomial features).\n",
    "- Use regularization techniques like Ridge or Lasso.\n",
    "- Remove outliers or irrelevant features.\n",
    "- Normalize your features if necessary.\n",
    "- Ensure your target variable is clean."
   ]
  },
  {
   "cell_type": "markdown",
   "metadata": {},
   "source": [
    "## **Model 2:** Decision Tree for Disease Classification\n",
    "\n",
    "### 1. Define Features and Target:"
   ]
  },
  {
   "cell_type": "code",
   "execution_count": 24,
   "metadata": {},
   "outputs": [
    {
     "data": {
      "text/plain": [
       "Index(['Patient_ID', 'Age', 'Weight', 'Gene1_Expression', 'Gene2_Expression',\n",
       "       'Gene3_Expression', 'Protein_Descriptor1', 'Protein_Descriptor2',\n",
       "       'Drug_Response', 'Disease_Status', 'Drug_Dosage'],\n",
       "      dtype='object')"
      ]
     },
     "execution_count": 24,
     "metadata": {},
     "output_type": "execute_result"
    }
   ],
   "source": [
    "# Print columns\n",
    "data.columns"
   ]
  },
  {
   "cell_type": "code",
   "execution_count": 25,
   "metadata": {},
   "outputs": [],
   "source": [
    "from sklearn.tree import DecisionTreeClassifier\n",
    "\n",
    "# Features: physical information, gene expressions and protein descriptors\n",
    "X = data[['Age','Weight','Gene1_Expression', 'Gene2_Expression', 'Gene3_Expression', 'Protein_Descriptor1', 'Protein_Descriptor2']]\n",
    "y = data['Disease_Status']\n",
    "\n",
    "# Train-test split\n",
    "X_train, X_test, y_train, y_test = train_test_split(X, y, test_size=0.2, random_state=42)"
   ]
  },
  {
   "cell_type": "markdown",
   "metadata": {},
   "source": [
    "### 2. Train the Model:"
   ]
  },
  {
   "cell_type": "code",
   "execution_count": 26,
   "metadata": {},
   "outputs": [],
   "source": [
    "# Train Decision Tree\n",
    "tree_clf = DecisionTreeClassifier()\n",
    "tree_clf.fit(X_train, y_train)\n",
    "\n",
    "# Predict\n",
    "y_pred = tree_clf.predict(X_test)"
   ]
  },
  {
   "cell_type": "markdown",
   "metadata": {},
   "source": [
    "### 3. Evaluate:"
   ]
  },
  {
   "cell_type": "code",
   "execution_count": 27,
   "metadata": {},
   "outputs": [
    {
     "name": "stdout",
     "output_type": "stream",
     "text": [
      "Accuracy: 0.75\n"
     ]
    }
   ],
   "source": [
    "from sklearn.metrics import accuracy_score\n",
    "\n",
    "# Calculate Accuracy\n",
    "accuracy = accuracy_score(y_test, y_pred)\n",
    "print(f'Accuracy: {accuracy}')"
   ]
  },
  {
   "cell_type": "code",
   "execution_count": 28,
   "metadata": {},
   "outputs": [
    {
     "data": {
      "image/png": "[encoded data removed]",
      "text/plain": [
       "<Figure size 432x288 with 2 Axes>"
      ]
     },
     "metadata": {
      "needs_background": "light"
     },
     "output_type": "display_data"
    }
   ],
   "source": [
    "from sklearn.metrics import confusion_matrix\n",
    "import seaborn as sns\n",
    "import matplotlib.pyplot as plt\n",
    "\n",
    "# Generate the confusion matrix\n",
    "cm = confusion_matrix(y_test, y_pred)\n",
    "\n",
    "# Plot the confusion matrix\n",
    "plt.figure(figsize=(6, 4))\n",
    "sns.heatmap(cm, annot=True, fmt='d', cmap='Blues', xticklabels=['Predicted Negative', 'Predicted Positive'], yticklabels=['Actual Negative', 'Actual Positive'])\n",
    "plt.xlabel('Predicted')\n",
    "plt.ylabel('Actual')\n",
    "plt.title('Confusion Matrix')\n",
    "plt.show()"
   ]
  },
  {
   "cell_type": "markdown",
   "metadata": {},
   "source": [
    "### 4. Interpretation:\n",
    "- An accuracy of 0.75 means that 75% of the predictions made by the model are correct.\n",
    "- Accuracy alone might not be sufficient for evaluating your model’s performance, especially if your dataset is imbalanced or if you are more concerned about false positives or false negatives. In bioinformatics and drug discovery, predicting false negatives (i.e., classifying a diseased patient as healthy) could be more critical than false positives.\n",
    "- Other evaluation metrics such as **precision, recall, F1-score, or ROC-AUC score** are often more informative for evaluating classification models.\n",
    "\n",
    "### 5. Conclusion:\n",
    "- The accuracy of 75% means that 75% of the model's predictions are correct, which could be decent in some cases, but you should investigate whether the dataset is balanced and explore additional evaluation metrics to ensure that the model is performing well across different classes. \n",
    "- Additionally, applying techniques like **hyperparameter tuning and feature engineering** can help improve accuracy."
   ]
  },
  {
   "cell_type": "markdown",
   "metadata": {},
   "source": [
    "## **Model 3:** Random Forest for Drug Response Prediction\n",
    "\n",
    "### 1. Define Features and Target:"
   ]
  },
  {
   "cell_type": "code",
   "execution_count": 29,
   "metadata": {},
   "outputs": [],
   "source": [
    "from sklearn.ensemble import RandomForestClassifier\n",
    "\n",
    "# Features: protein descriptors and gene expressions\n",
    "X = data[['Age','Weight','Protein_Descriptor1', 'Protein_Descriptor2', 'Gene1_Expression', 'Gene2_Expression','Drug_Dosage']]\n",
    "y = data['Drug_Response']\n",
    "\n",
    "# Train-test split\n",
    "X_train, X_test, y_train, y_test = train_test_split(X, y, test_size=0.2, random_state=42)"
   ]
  },
  {
   "cell_type": "markdown",
   "metadata": {},
   "source": [
    "### 2. Train the Model:"
   ]
  },
  {
   "cell_type": "code",
   "execution_count": 30,
   "metadata": {},
   "outputs": [],
   "source": [
    "# Train Random Forest\n",
    "rf_clf = RandomForestClassifier()\n",
    "rf_clf.fit(X_train, y_train,)\n",
    "\n",
    "# Predict\n",
    "y_pred = rf_clf.predict(X_test)\n"
   ]
  },
  {
   "cell_type": "markdown",
   "metadata": {},
   "source": [
    "### 3. Evaluate:"
   ]
  },
  {
   "cell_type": "code",
   "execution_count": 31,
   "metadata": {},
   "outputs": [
    {
     "name": "stdout",
     "output_type": "stream",
     "text": [
      "Accuracy: 0.6\n"
     ]
    }
   ],
   "source": [
    "# Calculate Accuracy\n",
    "accuracy = accuracy_score(y_test, y_pred)\n",
    "print(f'Accuracy: {accuracy}')"
   ]
  },
  {
   "cell_type": "code",
   "execution_count": 32,
   "metadata": {},
   "outputs": [
    {
     "data": {
      "image/png": "[encoded data removed]",
      "text/plain": [
       "<Figure size 432x288 with 2 Axes>"
      ]
     },
     "metadata": {
      "needs_background": "light"
     },
     "output_type": "display_data"
    }
   ],
   "source": [
    "from sklearn.metrics import confusion_matrix\n",
    "import seaborn as sns\n",
    "import matplotlib.pyplot as plt\n",
    "\n",
    "# Generate the confusion matrix\n",
    "cm = confusion_matrix(y_test, y_pred)\n",
    "\n",
    "# Plot the confusion matrix\n",
    "plt.figure(figsize=(6, 4))\n",
    "sns.heatmap(cm, annot=True, fmt='d', cmap='Blues', xticklabels=['Predicted Negative', 'Predicted Positive'], yticklabels=['Actual Negative', 'Actual Positive'])\n",
    "plt.xlabel('Predicted')\n",
    "plt.ylabel('Actual')\n",
    "plt.title('Confusion Matrix')\n",
    "plt.show()"
   ]
  },
  {
   "cell_type": "markdown",
   "metadata": {},
   "source": [
    "### 4. Interpretation:\n",
    "- An accuracy of 60% indicates that the model correctly predicted the outcome for 60% of the samples in your test set.\n",
    "- 40% of the predictions were incorrect.\n",
    "\n",
    "### 5. Conclusion:\n",
    "- An accuracy of 60% for the Random Forest model indicates that the model’s performance is quite low. \n",
    "- This could be due to various factors like **overfitting, poor feature selection, or imbalanced data**. \n",
    "- By **tuning hyperparameters, using cross-validation, handling class imbalances, and considering feature importance**, you can improve the model’s accuracy and overall performance.\n",
    "- Other metrics:\n",
    "    - **Precision:** How many of the predicted positives are actual positives.\n",
    "    - **Recall:** How many of the actual positives were correctly predicted.\n",
    "    - **F1-Score:** A balance between precision and recall.\n",
    "    - **ROC-AUC:** A metric that evaluates how well the model distinguishes between classes."
   ]
  },
  {
   "cell_type": "markdown",
   "metadata": {},
   "source": [
    "# 4. Overall Conclusion:\n",
    "\n",
    "After applying each model, you will have:\n",
    "\n",
    "- **Predicted *Drug Dosage*** using **Linear Regression.**\n",
    "- ***Disease* Classification** using **Decision Trees.**\n",
    "- ***Drug Response* Prediction** using **Random Forest.**\n",
    "\n",
    "You can visualize the results, evaluate each model using metrics such as accuracy, MSE, and R-squared, and draw insights from the data.\n",
    "\n",
    "This simplified project integrates EDA, preprocessing, and modeling using various machine learning techniques in the context of bioinformatics. You can easily extend it by adding more features, fine-tuning the models, and improving feature engineering."
   ]
  }
 ],
 "metadata": {
  "kernelspec": {
   "display_name": "Python 3",
   "language": "python",
   "name": "python3"
  },
  "language_info": {
   "codemirror_mode": {
    "name": "ipython",
    "version": 3
   },
   "file_extension": ".py",
   "mimetype": "text/x-python",
   "name": "python",
   "nbconvert_exporter": "python",
   "pygments_lexer": "ipython3",
   "version": "3.9.2"
  }
 },
 "nbformat": 4,
 "nbformat_minor": 2
}
