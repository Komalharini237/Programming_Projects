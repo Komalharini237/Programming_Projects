{
  "nbformat": 4,
  "nbformat_minor": 0,
  "metadata": {
    "colab": {
      "provenance": []
    },
    "kernelspec": {
      "name": "python3",
      "display_name": "Python 3"
    },
    "language_info": {
      "name": "python"
    }
  },
  "cells": [
    {
      "cell_type": "code",
      "source": [
        "print(\"Hello World!\")"
      ],
      "metadata": {
        "colab": {
          "base_uri": "https://localhost:8080/"
        },
        "id": "tHQ_AnsaxXDU",
        "outputId": "54a00cf0-d73d-4a9f-8997-6532d712ec64"
      },
      "execution_count": 1,
      "outputs": [
        {
          "output_type": "stream",
          "name": "stdout",
          "text": [
            "Hello World!\n"
          ]
        }
      ]
    },
    {
      "cell_type": "code",
      "execution_count": 2,
      "metadata": {
        "colab": {
          "base_uri": "https://localhost:8080/"
        },
        "id": "N7rn3qnRxOce",
        "outputId": "514e3666-e2e1-49d4-fb45-02150fe38255"
      },
      "outputs": [
        {
          "output_type": "stream",
          "name": "stdout",
          "text": [
            "TensorFlow version:  2.15.0\n"
          ]
        }
      ],
      "source": [
        "import tensorflow as tf\n",
        "from tensorflow.keras.datasets import mnist\n",
        "\n",
        "# Or\n",
        "# mnist = tensorflow.keras.datasets.mnist\n",
        "print(\"TensorFlow version: \", tf.__version__)"
      ]
    },
    {
      "cell_type": "code",
      "source": [
        "# Load the data\n",
        "(x_train,y_train), (x_test,y_test) = mnist.load_data()"
      ],
      "metadata": {
        "id": "f0xodDN1yc9A"
      },
      "execution_count": 3,
      "outputs": []
    },
    {
      "cell_type": "code",
      "source": [
        "# Preprocess the data\n",
        "x_train, x_test = x_train/255.0 , x_test/255.0 # Normalize pixel values to range [0, 1]"
      ],
      "metadata": {
        "id": "htLTGbO_yxHQ"
      },
      "execution_count": 4,
      "outputs": []
    },
    {
      "cell_type": "code",
      "source": [
        "# Build the model\n",
        "model = tf.keras.models.Sequential([\n",
        "    tf.keras.layers.Flatten(input_shape= (28,28)), # Input layer: Flatten 2D input to 1D\n",
        "    tf.keras.layers.Dense(128,activation=\"relu\"), #  Hidden layer with 128 neurons, ReLU activation = rectified linear unit; each neuron in this layer is connected to every neuron in the previous layer\n",
        "    tf.keras.layers.Dropout(0.2), # Prevents overfitting;  20% of input units set to zero at each update during training\n",
        "    tf.keras.layers.Dense(10) # Output layer with 10 neurons for classification; output raw logics as it has no activation function; during classification softmax can be used\n",
        "    ])"
      ],
      "metadata": {
        "id": "ZNKWl0tdy_e_"
      },
      "execution_count": 5,
      "outputs": []
    },
    {
      "cell_type": "code",
      "source": [
        "# Make predictions\n",
        "predictions = model(x_train[:1]).numpy() # Assuming x_train contains the input data\n",
        "predictions"
      ],
      "metadata": {
        "colab": {
          "base_uri": "https://localhost:8080/"
        },
        "id": "EURxvBV_xuou",
        "outputId": "3aa0891c-3bbc-44e3-f218-28f7839f182d"
      },
      "execution_count": 6,
      "outputs": [
        {
          "output_type": "execute_result",
          "data": {
            "text/plain": [
              "array([[ 0.13142382, -0.19357894, -0.6300816 , -0.39883822, -0.03943047,\n",
              "        -0.33126062, -0.29511458, -0.12940013, -0.24511485,  0.09480263]],\n",
              "      dtype=float32)"
            ]
          },
          "metadata": {},
          "execution_count": 6
        }
      ]
    },
    {
      "cell_type": "code",
      "source": [
        "tf.nn.softmax(predictions).numpy()"
      ],
      "metadata": {
        "colab": {
          "base_uri": "https://localhost:8080/"
        },
        "id": "imZqF2rfx_QO",
        "outputId": "839b920d-85c8-43bb-be04-290f0f63871f"
      },
      "execution_count": 7,
      "outputs": [
        {
          "output_type": "execute_result",
          "data": {
            "text/plain": [
              "array([[0.13653871, 0.09865268, 0.06375851, 0.08034632, 0.11509454,\n",
              "        0.08596358, 0.08912766, 0.10519169, 0.09369731, 0.13162895]],\n",
              "      dtype=float32)"
            ]
          },
          "metadata": {},
          "execution_count": 7
        }
      ]
    },
    {
      "cell_type": "code",
      "source": [
        "loss_fn = tf.keras.losses.SparseCategoricalCrossentropy(from_logits=True) # Sparse categorical crossentropy loss for integer labels\n",
        "loss_fn(y_train[:1], predictions).numpy()"
      ],
      "metadata": {
        "colab": {
          "base_uri": "https://localhost:8080/"
        },
        "id": "aPvNmzeJfcg5",
        "outputId": "caf0899c-b83d-4357-c31d-7f0741175f96"
      },
      "execution_count": 8,
      "outputs": [
        {
          "output_type": "execute_result",
          "data": {
            "text/plain": [
              "2.4538314"
            ]
          },
          "metadata": {},
          "execution_count": 8
        }
      ]
    },
    {
      "cell_type": "code",
      "source": [
        "# Compile the model\n",
        "model.compile(optimizer='adam',\n",
        "              loss=loss_fn,\n",
        "              metrics=['accuracy'])\n",
        "# Train the model\n",
        "history = model.fit(x_train, y_train, epochs=5, validation_split=0.2) # Assuming x_train and y_train are the training data\n",
        "# x_train = independent variables holding all the data\n",
        "# y_train = target variable (dependent) to be predicted or classified"
      ],
      "metadata": {
        "id": "_YKim_GK0vmI",
        "colab": {
          "base_uri": "https://localhost:8080/"
        },
        "outputId": "1ca02e1e-5435-4a71-a58e-1d86f6fe8346"
      },
      "execution_count": 9,
      "outputs": [
        {
          "output_type": "stream",
          "name": "stdout",
          "text": [
            "Epoch 1/5\n",
            "1500/1500 [==============================] - 15s 9ms/step - loss: 0.3189 - accuracy: 0.9075 - val_loss: 0.1535 - val_accuracy: 0.9563\n",
            "Epoch 2/5\n",
            "1500/1500 [==============================] - 9s 6ms/step - loss: 0.1553 - accuracy: 0.9545 - val_loss: 0.1105 - val_accuracy: 0.9677\n",
            "Epoch 3/5\n",
            "1500/1500 [==============================] - 6s 4ms/step - loss: 0.1165 - accuracy: 0.9656 - val_loss: 0.0973 - val_accuracy: 0.9713\n",
            "Epoch 4/5\n",
            "1500/1500 [==============================] - 6s 4ms/step - loss: 0.0930 - accuracy: 0.9718 - val_loss: 0.0923 - val_accuracy: 0.9731\n",
            "Epoch 5/5\n",
            "1500/1500 [==============================] - 5s 3ms/step - loss: 0.0779 - accuracy: 0.9765 - val_loss: 0.0874 - val_accuracy: 0.9738\n"
          ]
        }
      ]
    },
    {
      "cell_type": "code",
      "source": [
        "# Evaluate the model\n",
        "test_loss, test_acc = history.model.evaluate(x_test, y_test, verbose = 2)\n",
        "print(\"Test accuracy: \", test_acc)\n",
        "print(\"Test loss: \", test_loss)"
      ],
      "metadata": {
        "colab": {
          "base_uri": "https://localhost:8080/"
        },
        "id": "07a4CZeTgON_",
        "outputId": "52006e73-cc99-4774-9d76-54023a2ae95d"
      },
      "execution_count": 10,
      "outputs": [
        {
          "output_type": "stream",
          "name": "stdout",
          "text": [
            "313/313 - 1s - loss: 0.0788 - accuracy: 0.9748 - 874ms/epoch - 3ms/step\n",
            "Test accuracy:  0.9747999906539917\n",
            "Test loss:  0.07875800877809525\n"
          ]
        }
      ]
    },
    {
      "cell_type": "code",
      "source": [
        "import matplotlib.pyplot as plt\n",
        "\n",
        "# Plot training loss\n",
        "plt.plot(history.history['loss'], label='Training Loss')\n",
        "plt.xlabel('Epochs')\n",
        "plt.ylabel('Loss')\n",
        "plt.title('Training Loss over Epochs')\n",
        "plt.legend()\n",
        "plt.show()\n",
        "\n",
        "# Plot training accuracy\n",
        "plt.plot(history.history['accuracy'], label='Training Accuracy')\n",
        "plt.xlabel('Epochs')\n",
        "plt.ylabel('Accuracy')\n",
        "plt.title('Training Accuracy over Epochs')\n",
        "plt.legend()\n",
        "plt.show()"
      ],
      "metadata": {
        "colab": {
          "base_uri": "https://localhost:8080/",
          "height": 927
        },
        "id": "nypemSLvxciE",
        "outputId": "19063d32-d0ef-4206-c36b-bdc057997142"
      },
      "execution_count": 11,
      "outputs": [
        {
          "output_type": "display_data",
          "data": {
            "text/plain": [
              "<Figure size 640x480 with 1 Axes>"
            ],
            "image/png": "[encoded data removed]"
          },
          "metadata": {}
        },
        {
          "output_type": "display_data",
          "data": {
            "text/plain": [
              "<Figure size 640x480 with 1 Axes>"
            ],
            "image/png": "[encoded data removed]"
          },
          "metadata": {}
        }
      ]
    },
    {
      "cell_type": "code",
      "source": [
        "# Make predictions on the test dataset\n",
        "test_predictions = model.predict(x_test)"
      ],
      "metadata": {
        "colab": {
          "base_uri": "https://localhost:8080/"
        },
        "id": "8fF4BKBxgoIE",
        "outputId": "d3298f09-c8d7-462a-a769-0157c4c5eb4a"
      },
      "execution_count": 12,
      "outputs": [
        {
          "output_type": "stream",
          "name": "stdout",
          "text": [
            "313/313 [==============================] - 1s 2ms/step\n"
          ]
        }
      ]
    },
    {
      "cell_type": "code",
      "source": [
        "# print(test_predictions,y_test)"
      ],
      "metadata": {
        "id": "sFD4mrhPwHeI"
      },
      "execution_count": 13,
      "outputs": []
    },
    {
      "cell_type": "code",
      "source": [
        "# loss_test = loss_fn(y_test[:1], test_predictions).numpy()\n",
        "# loss_test"
      ],
      "metadata": {
        "id": "VWpqEkEbzQYt"
      },
      "execution_count": 14,
      "outputs": []
    },
    {
      "cell_type": "code",
      "source": [
        "# Evaluate model on test data\n",
        "test_loss, test_accuracy = model.evaluate(x_test, y_test)\n",
        "\n",
        "print(\"Test Loss:\", test_loss)\n",
        "print(\"Test Accuracy:\", test_accuracy)"
      ],
      "metadata": {
        "colab": {
          "base_uri": "https://localhost:8080/"
        },
        "id": "d0T-SqWpveCf",
        "outputId": "c900f84c-f52d-468b-87de-2c74d97590c9"
      },
      "execution_count": 15,
      "outputs": [
        {
          "output_type": "stream",
          "name": "stdout",
          "text": [
            "313/313 [==============================] - 1s 2ms/step - loss: 0.0788 - accuracy: 0.9748\n",
            "Test Loss: 0.07875800877809525\n",
            "Test Accuracy: 0.9747999906539917\n"
          ]
        }
      ]
    },
    {
      "cell_type": "code",
      "source": [
        "# # Make predictions on new data\n",
        "# predictions_new = model.predict(new_data)"
      ],
      "metadata": {
        "id": "PM5R9nRNy4V7"
      },
      "execution_count": 16,
      "outputs": []
    },
    {
      "cell_type": "code",
      "source": [
        "# # Save the model\n",
        "# model.save(\"my_model.h5\")"
      ],
      "metadata": {
        "id": "fkokIHu90bNv"
      },
      "execution_count": 17,
      "outputs": []
    },
    {
      "cell_type": "code",
      "source": [
        "# # Load the saved model\n",
        "# loaded_model = tf.keras.models.load_model(\"my_model.h5\")"
      ],
      "metadata": {
        "id": "sCU7_rT83SIr"
      },
      "execution_count": 18,
      "outputs": []
    }
  ]
}